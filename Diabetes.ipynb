{
  "nbformat": 4,
  "nbformat_minor": 0,
  "metadata": {
    "colab": {
      "name": "Untitled2.ipynb",
      "provenance": []
    },
    "kernelspec": {
      "name": "python3",
      "display_name": "Python 3"
    }
  },
  "cells": [
    {
      "cell_type": "code",
      "metadata": {
        "id": "w206ogIQVoUk",
        "colab_type": "code",
        "colab": {}
      },
      "source": [
        "import numpy as np\n",
        "import pandas as pd\n",
        "import matplotlib.pyplot as plt\n",
        "import seaborn as sns\n",
        "from sklearn import datasets, linear_model\n",
        "from sklearn.metrics import mean_squared_error, r2_score\n",
        "from sklearn import metrics\n",
        "\n",
        "# Load the diabetes dataset\n",
        "diabetes = datasets.load_diabetes()\n",
        "\n",
        "\n",
        "# Use only one feature\n",
        "diabetes_X = diabetes.data[:, np.newaxis, 2]\n",
        "diabetes_df = pd.DataFrame(data= np.c_[diabetes['data'], diabetes['target']],\n",
        "                     columns= diabetes['feature_names'] + ['target'])"
      ],
      "execution_count": 0,
      "outputs": []
    },
    {
      "cell_type": "code",
      "metadata": {
        "id": "563TR1QvVqOZ",
        "colab_type": "code",
        "colab": {
          "base_uri": "https://localhost:8080/",
          "height": 34
        },
        "outputId": "aaceee0c-fa52-450e-ec57-57675d0422b4"
      },
      "source": [
        "# shape\n",
        "print(diabetes_df.shape)"
      ],
      "execution_count": 21,
      "outputs": [
        {
          "output_type": "stream",
          "text": [
            "(442, 11)\n"
          ],
          "name": "stdout"
        }
      ]
    },
    {
      "cell_type": "code",
      "metadata": {
        "id": "vk2I02ENWDyr",
        "colab_type": "code",
        "colab": {
          "base_uri": "https://localhost:8080/",
          "height": 168
        },
        "outputId": "7acd87a5-7962-47b0-ec68-2de75f5aaa5c"
      },
      "source": [
        "# descriptions\n",
        "print(diabetes_df[['age']].describe())"
      ],
      "execution_count": 22,
      "outputs": [
        {
          "output_type": "stream",
          "text": [
            "                age\n",
            "count  4.420000e+02\n",
            "mean  -3.634285e-16\n",
            "std    4.761905e-02\n",
            "min   -1.072256e-01\n",
            "25%   -3.729927e-02\n",
            "50%    5.383060e-03\n",
            "75%    3.807591e-02\n",
            "max    1.107267e-01\n"
          ],
          "name": "stdout"
        }
      ]
    },
    {
      "cell_type": "code",
      "metadata": {
        "id": "PYWJSxF6WHhg",
        "colab_type": "code",
        "colab": {
          "base_uri": "https://localhost:8080/",
          "height": 218
        },
        "outputId": "99927023-9665-47f1-f654-e276dff3baa9"
      },
      "source": [
        "# datatype\n",
        "diabetes_df.dtypes"
      ],
      "execution_count": 23,
      "outputs": [
        {
          "output_type": "execute_result",
          "data": {
            "text/plain": [
              "age       float64\n",
              "sex       float64\n",
              "bmi       float64\n",
              "bp        float64\n",
              "s1        float64\n",
              "s2        float64\n",
              "s3        float64\n",
              "s4        float64\n",
              "s5        float64\n",
              "s6        float64\n",
              "target    float64\n",
              "dtype: object"
            ]
          },
          "metadata": {
            "tags": []
          },
          "execution_count": 23
        }
      ]
    },
    {
      "cell_type": "code",
      "metadata": {
        "id": "nXSxLGR3WMnQ",
        "colab_type": "code",
        "colab": {
          "base_uri": "https://localhost:8080/",
          "height": 286
        },
        "outputId": "9ee4f1c4-ea4c-47ad-ccd2-7c9231c0ff77"
      },
      "source": [
        "# information\n",
        "diabetes_df.info()"
      ],
      "execution_count": 24,
      "outputs": [
        {
          "output_type": "stream",
          "text": [
            "<class 'pandas.core.frame.DataFrame'>\n",
            "RangeIndex: 442 entries, 0 to 441\n",
            "Data columns (total 11 columns):\n",
            "age       442 non-null float64\n",
            "sex       442 non-null float64\n",
            "bmi       442 non-null float64\n",
            "bp        442 non-null float64\n",
            "s1        442 non-null float64\n",
            "s2        442 non-null float64\n",
            "s3        442 non-null float64\n",
            "s4        442 non-null float64\n",
            "s5        442 non-null float64\n",
            "s6        442 non-null float64\n",
            "target    442 non-null float64\n",
            "dtypes: float64(11)\n",
            "memory usage: 38.1 KB\n"
          ],
          "name": "stdout"
        }
      ]
    },
    {
      "cell_type": "code",
      "metadata": {
        "id": "TAGAYkkAWnj2",
        "colab_type": "code",
        "colab": {
          "base_uri": "https://localhost:8080/",
          "height": 252
        },
        "outputId": "89b8b27d-3d29-4ade-9ab2-3c07f2dce32f"
      },
      "source": [
        "diabetes_df.corr"
      ],
      "execution_count": 25,
      "outputs": [
        {
          "output_type": "execute_result",
          "data": {
            "text/plain": [
              "<bound method DataFrame.corr of           age       sex       bmi  ...        s5        s6  target\n",
              "0    0.038076  0.050680  0.061696  ...  0.019908 -0.017646   151.0\n",
              "1   -0.001882 -0.044642 -0.051474  ... -0.068330 -0.092204    75.0\n",
              "2    0.085299  0.050680  0.044451  ...  0.002864 -0.025930   141.0\n",
              "3   -0.089063 -0.044642 -0.011595  ...  0.022692 -0.009362   206.0\n",
              "4    0.005383 -0.044642 -0.036385  ... -0.031991 -0.046641   135.0\n",
              "..        ...       ...       ...  ...       ...       ...     ...\n",
              "437  0.041708  0.050680  0.019662  ...  0.031193  0.007207   178.0\n",
              "438 -0.005515  0.050680 -0.015906  ... -0.018118  0.044485   104.0\n",
              "439  0.041708  0.050680 -0.015906  ... -0.046879  0.015491   132.0\n",
              "440 -0.045472 -0.044642  0.039062  ...  0.044528 -0.025930   220.0\n",
              "441 -0.045472 -0.044642 -0.073030  ... -0.004220  0.003064    57.0\n",
              "\n",
              "[442 rows x 11 columns]>"
            ]
          },
          "metadata": {
            "tags": []
          },
          "execution_count": 25
        }
      ]
    },
    {
      "cell_type": "code",
      "metadata": {
        "id": "r_Mt-_rSWwaz",
        "colab_type": "code",
        "colab": {
          "base_uri": "https://localhost:8080/",
          "height": 1000
        },
        "outputId": "d068c23b-0b3f-4b9d-cb55-4253aea986a3"
      },
      "source": [
        "#correlation map\n",
        "f,ax = plt.subplots(figsize=(18, 18))\n",
        "sns.heatmap(diabetes_df.corr(), annot=True, linewidths=.5, fmt= '.1f',ax=ax)\n",
        "plt.show()"
      ],
      "execution_count": 27,
      "outputs": [
        {
          "output_type": "display_data",
          "data": {
            "image/png": "[encoded data removed]",
            "text/plain": [
              "<Figure size 1296x1296 with 2 Axes>"
            ]
          },
          "metadata": {
            "tags": []
          }
        }
      ]
    },
    {
      "cell_type": "code",
      "metadata": {
        "id": "py27ZAg_W2x_",
        "colab_type": "code",
        "colab": {
          "base_uri": "https://localhost:8080/",
          "height": 343
        },
        "outputId": "a860b6fe-2493-4f53-ab7b-6fa00e2d66f4"
      },
      "source": [
        "diabetes_df.head(10)"
      ],
      "execution_count": 29,
      "outputs": [
        {
          "output_type": "execute_result",
          "data": {
            "text/html": [
              "<div>\n",
              "<style scoped>\n",
              "    .dataframe tbody tr th:only-of-type {\n",
              "        vertical-align: middle;\n",
              "    }\n",
              "\n",
              "    .dataframe tbody tr th {\n",
              "        vertical-align: top;\n",
              "    }\n",
              "\n",
              "    .dataframe thead th {\n",
              "        text-align: right;\n",
              "    }\n",
              "</style>\n",
              "<table border=\"1\" class=\"dataframe\">\n",
              "  <thead>\n",
              "    <tr style=\"text-align: right;\">\n",
              "      <th></th>\n",
              "      <th>age</th>\n",
              "      <th>sex</th>\n",
              "      <th>bmi</th>\n",
              "      <th>bp</th>\n",
              "      <th>s1</th>\n",
              "      <th>s2</th>\n",
              "      <th>s3</th>\n",
              "      <th>s4</th>\n",
              "      <th>s5</th>\n",
              "      <th>s6</th>\n",
              "      <th>target</th>\n",
              "    </tr>\n",
              "  </thead>\n",
              "  <tbody>\n",
              "    <tr>\n",
              "      <th>0</th>\n",
              "      <td>0.038076</td>\n",
              "      <td>0.050680</td>\n",
              "      <td>0.061696</td>\n",
              "      <td>0.021872</td>\n",
              "      <td>-0.044223</td>\n",
              "      <td>-0.034821</td>\n",
              "      <td>-0.043401</td>\n",
              "      <td>-0.002592</td>\n",
              "      <td>0.019908</td>\n",
              "      <td>-0.017646</td>\n",
              "      <td>151.0</td>\n",
              "    </tr>\n",
              "    <tr>\n",
              "      <th>1</th>\n",
              "      <td>-0.001882</td>\n",
              "      <td>-0.044642</td>\n",
              "      <td>-0.051474</td>\n",
              "      <td>-0.026328</td>\n",
              "      <td>-0.008449</td>\n",
              "      <td>-0.019163</td>\n",
              "      <td>0.074412</td>\n",
              "      <td>-0.039493</td>\n",
              "      <td>-0.068330</td>\n",
              "      <td>-0.092204</td>\n",
              "      <td>75.0</td>\n",
              "    </tr>\n",
              "    <tr>\n",
              "      <th>2</th>\n",
              "      <td>0.085299</td>\n",
              "      <td>0.050680</td>\n",
              "      <td>0.044451</td>\n",
              "      <td>-0.005671</td>\n",
              "      <td>-0.045599</td>\n",
              "      <td>-0.034194</td>\n",
              "      <td>-0.032356</td>\n",
              "      <td>-0.002592</td>\n",
              "      <td>0.002864</td>\n",
              "      <td>-0.025930</td>\n",
              "      <td>141.0</td>\n",
              "    </tr>\n",
              "    <tr>\n",
              "      <th>3</th>\n",
              "      <td>-0.089063</td>\n",
              "      <td>-0.044642</td>\n",
              "      <td>-0.011595</td>\n",
              "      <td>-0.036656</td>\n",
              "      <td>0.012191</td>\n",
              "      <td>0.024991</td>\n",
              "      <td>-0.036038</td>\n",
              "      <td>0.034309</td>\n",
              "      <td>0.022692</td>\n",
              "      <td>-0.009362</td>\n",
              "      <td>206.0</td>\n",
              "    </tr>\n",
              "    <tr>\n",
              "      <th>4</th>\n",
              "      <td>0.005383</td>\n",
              "      <td>-0.044642</td>\n",
              "      <td>-0.036385</td>\n",
              "      <td>0.021872</td>\n",
              "      <td>0.003935</td>\n",
              "      <td>0.015596</td>\n",
              "      <td>0.008142</td>\n",
              "      <td>-0.002592</td>\n",
              "      <td>-0.031991</td>\n",
              "      <td>-0.046641</td>\n",
              "      <td>135.0</td>\n",
              "    </tr>\n",
              "    <tr>\n",
              "      <th>5</th>\n",
              "      <td>-0.092695</td>\n",
              "      <td>-0.044642</td>\n",
              "      <td>-0.040696</td>\n",
              "      <td>-0.019442</td>\n",
              "      <td>-0.068991</td>\n",
              "      <td>-0.079288</td>\n",
              "      <td>0.041277</td>\n",
              "      <td>-0.076395</td>\n",
              "      <td>-0.041180</td>\n",
              "      <td>-0.096346</td>\n",
              "      <td>97.0</td>\n",
              "    </tr>\n",
              "    <tr>\n",
              "      <th>6</th>\n",
              "      <td>-0.045472</td>\n",
              "      <td>0.050680</td>\n",
              "      <td>-0.047163</td>\n",
              "      <td>-0.015999</td>\n",
              "      <td>-0.040096</td>\n",
              "      <td>-0.024800</td>\n",
              "      <td>0.000779</td>\n",
              "      <td>-0.039493</td>\n",
              "      <td>-0.062913</td>\n",
              "      <td>-0.038357</td>\n",
              "      <td>138.0</td>\n",
              "    </tr>\n",
              "    <tr>\n",
              "      <th>7</th>\n",
              "      <td>0.063504</td>\n",
              "      <td>0.050680</td>\n",
              "      <td>-0.001895</td>\n",
              "      <td>0.066630</td>\n",
              "      <td>0.090620</td>\n",
              "      <td>0.108914</td>\n",
              "      <td>0.022869</td>\n",
              "      <td>0.017703</td>\n",
              "      <td>-0.035817</td>\n",
              "      <td>0.003064</td>\n",
              "      <td>63.0</td>\n",
              "    </tr>\n",
              "    <tr>\n",
              "      <th>8</th>\n",
              "      <td>0.041708</td>\n",
              "      <td>0.050680</td>\n",
              "      <td>0.061696</td>\n",
              "      <td>-0.040099</td>\n",
              "      <td>-0.013953</td>\n",
              "      <td>0.006202</td>\n",
              "      <td>-0.028674</td>\n",
              "      <td>-0.002592</td>\n",
              "      <td>-0.014956</td>\n",
              "      <td>0.011349</td>\n",
              "      <td>110.0</td>\n",
              "    </tr>\n",
              "    <tr>\n",
              "      <th>9</th>\n",
              "      <td>-0.070900</td>\n",
              "      <td>-0.044642</td>\n",
              "      <td>0.039062</td>\n",
              "      <td>-0.033214</td>\n",
              "      <td>-0.012577</td>\n",
              "      <td>-0.034508</td>\n",
              "      <td>-0.024993</td>\n",
              "      <td>-0.002592</td>\n",
              "      <td>0.067736</td>\n",
              "      <td>-0.013504</td>\n",
              "      <td>310.0</td>\n",
              "    </tr>\n",
              "  </tbody>\n",
              "</table>\n",
              "</div>"
            ],
            "text/plain": [
              "        age       sex       bmi        bp  ...        s4        s5        s6  target\n",
              "0  0.038076  0.050680  0.061696  0.021872  ... -0.002592  0.019908 -0.017646   151.0\n",
              "1 -0.001882 -0.044642 -0.051474 -0.026328  ... -0.039493 -0.068330 -0.092204    75.0\n",
              "2  0.085299  0.050680  0.044451 -0.005671  ... -0.002592  0.002864 -0.025930   141.0\n",
              "3 -0.089063 -0.044642 -0.011595 -0.036656  ...  0.034309  0.022692 -0.009362   206.0\n",
              "4  0.005383 -0.044642 -0.036385  0.021872  ... -0.002592 -0.031991 -0.046641   135.0\n",
              "5 -0.092695 -0.044642 -0.040696 -0.019442  ... -0.076395 -0.041180 -0.096346    97.0\n",
              "6 -0.045472  0.050680 -0.047163 -0.015999  ... -0.039493 -0.062913 -0.038357   138.0\n",
              "7  0.063504  0.050680 -0.001895  0.066630  ...  0.017703 -0.035817  0.003064    63.0\n",
              "8  0.041708  0.050680  0.061696 -0.040099  ... -0.002592 -0.014956  0.011349   110.0\n",
              "9 -0.070900 -0.044642  0.039062 -0.033214  ... -0.002592  0.067736 -0.013504   310.0\n",
              "\n",
              "[10 rows x 11 columns]"
            ]
          },
          "metadata": {
            "tags": []
          },
          "execution_count": 29
        }
      ]
    },
    {
      "cell_type": "code",
      "metadata": {
        "id": "c5pgsyB7Xeei",
        "colab_type": "code",
        "colab": {}
      },
      "source": [
        "from sklearn.model_selection import train_test_split\n",
        "\n",
        "X_train, X_test, y_train, y_test = train_test_split(diabetes_X, diabetes.target, test_size=0.20, random_state=5)"
      ],
      "execution_count": 0,
      "outputs": []
    },
    {
      "cell_type": "code",
      "metadata": {
        "id": "8Vvpr2BzXmxd",
        "colab_type": "code",
        "colab": {
          "base_uri": "https://localhost:8080/",
          "height": 34
        },
        "outputId": "88e5cd79-927e-473f-e05d-43e538648651"
      },
      "source": [
        "from sklearn.linear_model import LinearRegression\n",
        "\n",
        "# Create linear regression object\n",
        "regr = LinearRegression()\n",
        "\n",
        "# Train the model using the training sets\n",
        "regr.fit(X_train, y_train)"
      ],
      "execution_count": 31,
      "outputs": [
        {
          "output_type": "execute_result",
          "data": {
            "text/plain": [
              "LinearRegression(copy_X=True, fit_intercept=True, n_jobs=None, normalize=False)"
            ]
          },
          "metadata": {
            "tags": []
          },
          "execution_count": 31
        }
      ]
    },
    {
      "cell_type": "code",
      "metadata": {
        "id": "H12g4ZOYXsxm",
        "colab_type": "code",
        "colab": {
          "base_uri": "https://localhost:8080/",
          "height": 319
        },
        "outputId": "a66c9b9d-c17b-4963-fafd-0784f25d4578"
      },
      "source": [
        "y_pred = regr.predict(X_test)\n",
        "print(y_pred)"
      ],
      "execution_count": 32,
      "outputs": [
        {
          "output_type": "stream",
          "text": [
            "[171.27316713 223.87670856 112.5999863  144.97139641 191.50529845\n",
            " 128.78569136 143.95978985 221.85349543 157.1106752  203.64457724\n",
            "  72.13572366 198.58654441 148.00621611 148.00621611 207.69100351\n",
            " 131.82051105 138.90175702  97.42588781  92.36785498 115.634806\n",
            " 112.5999863  129.79729792 130.80890449 184.42405249 122.71605196\n",
            " 102.48392064 280.52667626 212.74903634 129.79729792 134.85533075\n",
            " 129.79729792 119.68123226 129.79729792 130.80890449 150.02942924\n",
            " 139.91336358 208.70261007 150.02942924 167.22674087  79.21696962\n",
            " 100.46070751 142.94818328 239.05080705 131.82051105 140.92497015\n",
            " 125.75087166 216.7954626   91.35624841 183.41244592 140.92497015\n",
            " 231.96956109 132.83211762 227.92313483 218.81867573 202.63297068\n",
            " 120.69283883 127.77408479  83.26339588 188.47047875 194.54011815\n",
            " 108.55356003 170.26156056 134.85533075 156.09906864 136.87854388\n",
            " 211.73742977 215.78385604 151.04103581 188.47047875 157.1106752\n",
            " 165.20352773 169.249954   167.22674087 153.06424894 170.26156056\n",
            " 155.08746207 144.97139641 209.71421664 120.69283883 208.70261007\n",
            " 165.20352773 146.99460954 132.83211762 141.93657671 153.06424894\n",
            " 200.60975754 132.83211762 109.5651666  194.54011815]\n"
          ],
          "name": "stdout"
        }
      ]
    },
    {
      "cell_type": "code",
      "metadata": {
        "id": "oifIkGJVXxq7",
        "colab_type": "code",
        "colab": {
          "base_uri": "https://localhost:8080/",
          "height": 319
        },
        "outputId": "4aad87b7-a00c-4989-82d1-ca561f1fbee8"
      },
      "source": [
        "from sklearn import metrics\n",
        "\n",
        "# The coefficients\n",
        "print('Coefficients: \\n', regr.coef_)\n",
        "# The mean squared error\n",
        "print(\"Mean squared error: %.2f\"\n",
        "      % metrics.mean_squared_error(y_test, y_pred))\n",
        "print(\"Mean absolute error: %.2f\"\n",
        "      % metrics.mean_absolute_error(y_test, y_pred))\n",
        "\n",
        "# Plot outputs\n",
        "plt.scatter(X_test, y_test,  color='black')\n",
        "plt.plot(X_test, y_pred, color='blue', linewidth=3)\n",
        "\n",
        "plt.xticks(())\n",
        "plt.yticks(())\n",
        "\n",
        "plt.show() "
      ],
      "execution_count": 33,
      "outputs": [
        {
          "output_type": "stream",
          "text": [
            "Coefficients: \n",
            " [938.57416386]\n",
            "Mean squared error: 4391.82\n",
            "Mean absolute error: 55.51\n"
          ],
          "name": "stdout"
        },
        {
          "output_type": "display_data",
          "data": {
            "image/png": "[encoded data removed]",
            "text/plain": [
              "<Figure size 432x288 with 1 Axes>"
            ]
          },
          "metadata": {
            "tags": []
          }
        }
      ]
    },
    {
      "cell_type": "code",
      "metadata": {
        "id": "H9a3zDoPX2AX",
        "colab_type": "code",
        "colab": {}
      },
      "source": [
        "X_train, X_test, y_train, y_test = train_test_split(diabetes_df[diabetes['feature_names']], diabetes.target, test_size=0.30)\n",
        "  # Train the model using the training sets\n",
        "regr.fit(X_train, y_train)\n",
        "# Make predictions using the testing set\n",
        "y_pred = regr.predict(X_test)"
      ],
      "execution_count": 0,
      "outputs": []
    },
    {
      "cell_type": "code",
      "metadata": {
        "id": "uIdNKSH1YAM-",
        "colab_type": "code",
        "colab": {
          "base_uri": "https://localhost:8080/",
          "height": 118
        },
        "outputId": "47f26274-8e12-4723-ea0e-cdc8b4859597"
      },
      "source": [
        " # The coefficients\n",
        "print('Coefficients: \\n', regr.coef_)\n",
        "# The mean squared error\n",
        "print(\"Mean squared error: %.2f\"\n",
        "      % metrics.mean_squared_error(y_test, y_pred))\n",
        "print(\"Mean absolute error: %.2f\"\n",
        "      % metrics.mean_absolute_error(y_test, y_pred))\n"
      ],
      "execution_count": 36,
      "outputs": [
        {
          "output_type": "stream",
          "text": [
            "Coefficients: \n",
            " [   18.39974118  -200.32263826   497.60709507   330.75698503\n",
            " -1032.61592923   643.86705698   217.47194565   214.73813097\n",
            "   815.73626849    80.83601257]\n",
            "Mean squared error: 3123.93\n",
            "Mean absolute error: 44.98\n"
          ],
          "name": "stdout"
        }
      ]
    },
    {
      "cell_type": "code",
      "metadata": {
        "id": "SjYbLHktYI9i",
        "colab_type": "code",
        "colab": {}
      },
      "source": [
        ""
      ],
      "execution_count": 0,
      "outputs": []
    }
  ]
}